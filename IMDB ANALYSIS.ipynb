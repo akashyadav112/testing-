{
 "cells": [
  {
   "cell_type": "markdown",
   "metadata": {},
   "source": [
    "# Import Libraries"
   ]
  },
  {
   "cell_type": "code",
   "execution_count": null,
   "metadata": {},
   "outputs": [],
   "source": [
    "import numpy as np\n",
    "import pandas as pd\n",
    "import matplotlib.pyplot as plt \n",
    "import seaborn as sns"
   ]
  },
  {
   "cell_type": "markdown",
   "metadata": {},
   "source": [
    "# Import dataset"
   ]
  },
  {
   "cell_type": "code",
   "execution_count": null,
   "metadata": {},
   "outputs": [],
   "source": [
    "data=pd.read_csv(r\"C:\\Users\\Akash Yadav\\Desktop\\dataset\\movie_dataset.csv\")"
   ]
  },
  {
   "cell_type": "markdown",
   "metadata": {},
   "source": [
    "# Explore the dataset.."
   ]
  },
  {
   "cell_type": "code",
   "execution_count": null,
   "metadata": {},
   "outputs": [],
   "source": [
    "data.head(10)"
   ]
  },
  {
   "cell_type": "code",
   "execution_count": null,
   "metadata": {},
   "outputs": [],
   "source": [
    "# as we are able to see that in release column the we need to clean the data.."
   ]
  },
  {
   "cell_type": "code",
   "execution_count": null,
   "metadata": {},
   "outputs": [],
   "source": [
    "data.shape # so there are 2000 rows and 10 columns.."
   ]
  },
  {
   "cell_type": "code",
   "execution_count": null,
   "metadata": {},
   "outputs": [],
   "source": [
    "data.dtypes # datatypes of the all columns .."
   ]
  },
  {
   "cell_type": "code",
   "execution_count": null,
   "metadata": {},
   "outputs": [],
   "source": [
    "data.duplicated().sum() # it will show all duplicate rows"
   ]
  },
  {
   "cell_type": "code",
   "execution_count": null,
   "metadata": {},
   "outputs": [],
   "source": [
    "data.isnull().sum() # here it will show all the null values column wise.."
   ]
  },
  {
   "cell_type": "code",
   "execution_count": null,
   "metadata": {},
   "outputs": [],
   "source": [
    "data.info() # it gives all the basics info about the file.."
   ]
  },
  {
   "cell_type": "code",
   "execution_count": null,
   "metadata": {},
   "outputs": [],
   "source": [
    "sns.heatmap(data.isnull())\n",
    "# heatmap will help to visualise in which range our values are NULL of every column."
   ]
  },
  {
   "cell_type": "markdown",
   "metadata": {},
   "source": [
    "# Data cleaning.."
   ]
  },
  {
   "cell_type": "code",
   "execution_count": null,
   "metadata": {},
   "outputs": [],
   "source": [
    "# first delete out all those row which do not contain any data..\n",
    "data =data.dropna(how = 'all')\n",
    "data.shape\n",
    "\n",
    "#seems like there is no row like that.."
   ]
  },
  {
   "cell_type": "code",
   "execution_count": null,
   "metadata": {},
   "outputs": [],
   "source": [
    "#lets change the name of the column run time as we need to clean data on the basis of it..\n",
    "data.rename(columns={'runtime min':'runtime'},inplace=True)\n",
    "data.head()"
   ]
  },
  {
   "cell_type": "code",
   "execution_count": null,
   "metadata": {},
   "outputs": [],
   "source": [
    "#here we can cleary see all the movie/row where our data release is greater that lenth 4 so we need to remove it..\n",
    "data[data['release'].str.len()>4]"
   ]
  },
  {
   "cell_type": "code",
   "execution_count": null,
   "metadata": {},
   "outputs": [],
   "source": [
    "# so lets delete these rows\n",
    "data.drop(data[data['release'].str.len()>4].index,inplace=True)\n",
    "data.shape \n",
    "# so we can see that we have successfully deleted all those data.."
   ]
  },
  {
   "cell_type": "code",
   "execution_count": null,
   "metadata": {},
   "outputs": [],
   "source": [
    "# also lets delete all the rows where the release is less than 4 length\n",
    "data.drop(data[data['release'].str.len()<4].index,inplace=True)\n",
    "data.shape"
   ]
  },
  {
   "cell_type": "code",
   "execution_count": null,
   "metadata": {},
   "outputs": [],
   "source": [
    "# now lets delete all the rows where the runtime is NULL\n",
    "data[data['runtime'].isnull()]"
   ]
  },
  {
   "cell_type": "code",
   "execution_count": null,
   "metadata": {},
   "outputs": [],
   "source": [
    "# lets delete these rows as they are of no use...\n",
    "data.drop(data[data['runtime'].isnull()].index,inplace=True)\n",
    "data.shape\n",
    "# so here we can see that we also deleted that data.."
   ]
  },
  {
   "cell_type": "markdown",
   "metadata": {},
   "source": [
    "# Movies Production Every Year.."
   ]
  },
  {
   "cell_type": "code",
   "execution_count": null,
   "metadata": {},
   "outputs": [],
   "source": [
    "data.dtypes # here we can see that after deleting all the data still the 'release' column is a object type we need to convert it into a int"
   ]
  },
  {
   "cell_type": "code",
   "execution_count": null,
   "metadata": {},
   "outputs": [],
   "source": [
    "data['release']=data['release'].astype(str).astype(int) # this will covert the release column into the int values..\n",
    "# we can also use below like to the same..\n",
    "#data['release'] = pd.to_numeric(data['release'])\n",
    "data.dtypes"
   ]
  },
  {
   "cell_type": "code",
   "execution_count": null,
   "metadata": {},
   "outputs": [],
   "source": [
    "condition = data['release'].astype(int) > 1970\n",
    "\n",
    "prodcount = (data[condition][[\"release\",\"rating\"]] # here the there is no use of rating we just are taking it as to store the total no of count of movies each year..as we cannot take a varibale which is not a column it will show error..\n",
    "             .groupby(\"release\")\n",
    "             .count()\n",
    "            )\n",
    "\n",
    "prodcount.tail()"
   ]
  },
  {
   "cell_type": "code",
   "execution_count": null,
   "metadata": {},
   "outputs": [],
   "source": [
    "(prodcount.rolling(5).mean().rename(columns={\"rating\":\"count\"}) # since there was no use of the rating column we have stored count in it so we will rename it as count\n",
    " .plot(figsize=(15,5),\n",
    "       title=\"Number of Movies - by production year\")\n",
    ")\n",
    "# rolling 5-> means more curved as the value will decrease the curves will become more pointy"
   ]
  },
  {
   "cell_type": "markdown",
   "metadata": {},
   "source": [
    "# top 10 rated movies of all time.."
   ]
  },
  {
   "cell_type": "code",
   "execution_count": null,
   "metadata": {},
   "outputs": [],
   "source": [
    "data.sort_values('rating',ascending=False).head(10)"
   ]
  },
  {
   "cell_type": "markdown",
   "metadata": {},
   "source": [
    "# top 10 longest running time movies"
   ]
  },
  {
   "cell_type": "code",
   "execution_count": null,
   "metadata": {},
   "outputs": [],
   "source": [
    "data.sort_values('runtime',ascending=False).head(10)"
   ]
  },
  {
   "cell_type": "markdown",
   "metadata": {},
   "source": [
    "# top 10 highest grosser of all time.."
   ]
  },
  {
   "cell_type": "code",
   "execution_count": null,
   "metadata": {},
   "outputs": [],
   "source": [
    "data.sort_values('gross_in_USD',ascending=False).head(10)"
   ]
  },
  {
   "cell_type": "markdown",
   "metadata": {},
   "source": [
    "# Top Movies Genres"
   ]
  },
  {
   "cell_type": "code",
   "execution_count": null,
   "metadata": {},
   "outputs": [],
   "source": [
    "# lets see pie chart of the genres "
   ]
  },
  {
   "cell_type": "code",
   "execution_count": null,
   "metadata": {},
   "outputs": [],
   "source": [
    "nn=data['genre']\n",
    "dic={}\n",
    "for i in nn:\n",
    "    k=i.split(',')\n",
    "    for j in k:\n",
    "        v=j.replace(\" \",\"\")\n",
    "        if(v in dic):\n",
    "            dic[v]+=1\n",
    "        else:\n",
    "            dic[v]=1"
   ]
  },
  {
   "cell_type": "code",
   "execution_count": null,
   "metadata": {},
   "outputs": [],
   "source": [
    "nam=[]\n",
    "val=[]\n",
    "for i in dic:\n",
    "    nam.append(i)\n",
    "    val.append(dic[i])\n",
    "\n",
    "exp=[0.0,0.2,0.0,0.0,0.0,0.0,0.0,0.0,0.0,0.0,0.0,0.0,0.0,0.0]\n",
    "plt.title('Most popular genre in Bollywood')\n",
    "plt.pie(val,labels=nam,explode=exp,autopct=\"%.2f%%\")\n",
    "plt.axis('equal',radius=1,frame=True)\n",
    "plt.show()"
   ]
  },
  {
   "cell_type": "code",
   "execution_count": null,
   "metadata": {},
   "outputs": [],
   "source": [
    "# so the most popular genre in india is drama then romance and then comedy.."
   ]
  },
  {
   "cell_type": "markdown",
   "metadata": {},
   "source": [
    "# Analysis of Best actors "
   ]
  },
  {
   "cell_type": "code",
   "execution_count": null,
   "metadata": {},
   "outputs": [],
   "source": [
    "# first of all coverting the 'votes' from object to the integer..\n",
    "\n",
    "data['votes']=data['votes'].apply(lambda x:x.replace(',','')).astype(str).astype(float)\n",
    "\n",
    "print(data.dtypes) #this is clearly telling us that we have successfully converted the 'votes' columns in integer/float \n"
   ]
  },
  {
   "cell_type": "code",
   "execution_count": null,
   "metadata": {},
   "outputs": [],
   "source": [
    "ac=data['actor'].unique() # all the actors \n",
    "aver_rat=[]\n",
    "box_off=[]\n",
    "pub_vot=[]\n",
    "no_mov=[]\n",
    "\n",
    "for i in ac:\n",
    "    \n",
    "    no_mov.append(data[data['actor']==i]['movie_name'].count()) # the no of the movies the actor has done as a lead actor..\n",
    "    \n",
    "    y=data[data['actor']==i][['rating','gross_in_USD','votes']] # collecting data from the sheet\n",
    "    \n",
    "    aver_rat.append(y['rating'].mean()) # storing the average of all actors..\n",
    "    box_off.append(y['gross_in_USD'].sum()) # storing the box office collection of all stars\n",
    "    pub_vot.append(y['votes'].sum()) # storing no of votes they have recieved till date by audience\n"
   ]
  },
  {
   "cell_type": "markdown",
   "metadata": {},
   "source": [
    "Converting this data into a csv datset so that we can access and manipulate the dataset easily.."
   ]
  },
  {
   "cell_type": "code",
   "execution_count": null,
   "metadata": {},
   "outputs": [],
   "source": [
    "actors=pd.DataFrame({'actor_name':ac,'no_of_movies':no_mov,'collection':box_off, 'avg_rating':aver_rat, 'votes':pub_vot})\n",
    "actors.head()"
   ]
  },
  {
   "cell_type": "markdown",
   "metadata": {},
   "source": [
    "# Best rated stars of Bollywood..(Atleast have done 15 movies)"
   ]
  },
  {
   "cell_type": "code",
   "execution_count": null,
   "metadata": {},
   "outputs": [],
   "source": [
    "# lets decide the actors which has done movies>1\n",
    "akash=actors[(actors['no_of_movies']>=15) & (actors['avg_rating']>6)].sort_values('avg_rating',ascending=False).head(10)"
   ]
  },
  {
   "cell_type": "code",
   "execution_count": null,
   "metadata": {},
   "outputs": [],
   "source": [
    "plt.title(\"Best actors according to ratings\\n\")\n",
    "sns.barplot(akash['avg_rating'],akash['actor_name']) # horizontal barplot can be obtained by writing first y axis elements and then x axis elements\n",
    "plt.show()"
   ]
  },
  {
   "cell_type": "markdown",
   "metadata": {},
   "source": [
    "# Biggest Box-Office Attractions"
   ]
  },
  {
   "cell_type": "code",
   "execution_count": null,
   "metadata": {
    "scrolled": true
   },
   "outputs": [],
   "source": [
    "# top 10 actors with the highest collections...\n",
    "abhi=actors.sort_values('collection',ascending=False).head(10)"
   ]
  },
  {
   "cell_type": "code",
   "execution_count": null,
   "metadata": {},
   "outputs": [],
   "source": [
    "plt.title(\"Best actors according to Box office\\n\")\n",
    "sns.barplot(abhi['collection'],abhi['actor_name']) # horizontal barplot can be obtained by writing first y axis elements and then x axis elements\n",
    "plt.show()"
   ]
  },
  {
   "cell_type": "markdown",
   "metadata": {},
   "source": [
    "# Peoples most loved superstars"
   ]
  },
  {
   "cell_type": "code",
   "execution_count": null,
   "metadata": {},
   "outputs": [],
   "source": [
    "ans=actors.sort_values('votes',ascending=False).head(10)"
   ]
  },
  {
   "cell_type": "code",
   "execution_count": null,
   "metadata": {},
   "outputs": [],
   "source": [
    "plt.title(\"Most loved superstars\\n\")\n",
    "sns.barplot(abhi['votes'],abhi['actor_name'])\n",
    "plt.show()"
   ]
  },
  {
   "cell_type": "markdown",
   "metadata": {},
   "source": [
    "#  Analysis of the best Director"
   ]
  },
  {
   "cell_type": "code",
   "execution_count": null,
   "metadata": {},
   "outputs": [],
   "source": [
    "dic=data['director'].unique()\n",
    "d_avg=[]\n",
    "d_collect=[]\n",
    "d_mov=[]\n",
    "d_vot=[]\n",
    "for i in dic:\n",
    "    x=data[data['director']==i]['movie_name'].count()\n",
    "    y=data[data['director']==i][['rating','gross_in_USD','votes']]\n",
    "    d_avg.append(y['rating'].mean())\n",
    "    d_collect.append(y['gross_in_USD'].sum())\n",
    "    d_vot.append(y['votes'].sum())\n",
    "    d_mov.append(x)\n"
   ]
  },
  {
   "cell_type": "markdown",
   "metadata": {},
   "source": [
    "converting this data into a csv dataset that we can easily access the data and manulpulate it easily.."
   ]
  },
  {
   "cell_type": "code",
   "execution_count": null,
   "metadata": {
    "scrolled": true
   },
   "outputs": [],
   "source": [
    "direct=pd.DataFrame({'direct_name':dic,'no_of_movies':d_mov,'collection':d_collect, 'avg_rating':d_avg, 'votes':d_vot})\n",
    "direct.head()"
   ]
  },
  {
   "cell_type": "markdown",
   "metadata": {},
   "source": [
    "# Director which means quality"
   ]
  },
  {
   "cell_type": "code",
   "execution_count": null,
   "metadata": {},
   "outputs": [],
   "source": [
    "ds=direct[(direct['no_of_movies']>=5) & (direct['avg_rating']>5)]"
   ]
  },
  {
   "cell_type": "code",
   "execution_count": null,
   "metadata": {},
   "outputs": [],
   "source": [
    "abc=ds.sort_values('avg_rating',ascending=False).head(11)"
   ]
  },
  {
   "cell_type": "code",
   "execution_count": null,
   "metadata": {},
   "outputs": [],
   "source": [
    "plt.title(\"Best directors accoring to the ratings\\n\")\n",
    "sns.barplot(abc['avg_rating'],abc['direct_name'])\n",
    "plt.show()"
   ]
  },
  {
   "cell_type": "markdown",
   "metadata": {},
   "source": [
    "# Director which means box office"
   ]
  },
  {
   "cell_type": "code",
   "execution_count": null,
   "metadata": {},
   "outputs": [],
   "source": [
    "cll=direct.sort_values('collection',ascending=False).head(10)"
   ]
  },
  {
   "cell_type": "code",
   "execution_count": null,
   "metadata": {},
   "outputs": [],
   "source": [
    "plt.title(\"Most profitable directors\\n\")\n",
    "sns.barplot(cll['collection'],cll['direct_name'])\n",
    "plt.show()"
   ]
  },
  {
   "cell_type": "markdown",
   "metadata": {},
   "source": [
    "# Director which means MASS"
   ]
  },
  {
   "cell_type": "code",
   "execution_count": null,
   "metadata": {},
   "outputs": [],
   "source": [
    "mass=direct.sort_values('votes',ascending=False).head(10)"
   ]
  },
  {
   "cell_type": "code",
   "execution_count": null,
   "metadata": {},
   "outputs": [],
   "source": [
    "plt.title(\"Most loves directors\\n\")\n",
    "sns.barplot(mass['votes'],mass['direct_name'])\n",
    "plt.show()"
   ]
  },
  {
   "cell_type": "markdown",
   "metadata": {},
   "source": [
    "# Conclusion : the success mantra.."
   ]
  },
  {
   "cell_type": "markdown",
   "metadata": {},
   "source": [
    "# Director:\n",
    "Rajkumar Hirani is cleary the best option by far in best director category. He is one man army,this guy means serious business.\n",
    "\n",
    "# Actor:\n",
    "for actor it is tie between the two khans of the bollywood, Aamir khan and Shah Rukh Khan,both are good actors as per IMDB as well as biggest box office attractions...\n",
    "but if you are looking for the actors with great acting skills you should consider Irfan Khan and Manoj Bajpayee..\n",
    "\n",
    "# Actress:\n",
    "Deepika padukone is only female superstar according to public voting and box office collection..\n",
    "\n",
    "# Movie Genre:\n",
    "Drama,Rommance,comedy and action are best genre in descending order in the bollywood ..\n"
   ]
  }
 ],
 "metadata": {
  "kernelspec": {
   "display_name": "Python 3",
   "language": "python",
   "name": "python3"
  },
  "language_info": {
   "codemirror_mode": {
    "name": "ipython",
    "version": 3
   },
   "file_extension": ".py",
   "mimetype": "text/x-python",
   "name": "python",
   "nbconvert_exporter": "python",
   "pygments_lexer": "ipython3",
   "version": "3.7.3"
  }
 },
 "nbformat": 4,
 "nbformat_minor": 2
}
